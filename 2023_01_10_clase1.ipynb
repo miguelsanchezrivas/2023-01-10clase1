{
  "nbformat": 4,
  "nbformat_minor": 0,
  "metadata": {
    "colab": {
      "provenance": [],
      "authorship_tag": "ABX9TyP4fQhaSZvKA30IqMFU37sN",
      "include_colab_link": true
    },
    "kernelspec": {
      "name": "python3",
      "display_name": "Python 3"
    },
    "language_info": {
      "name": "python"
    }
  },
  "cells": [
    {
      "cell_type": "markdown",
      "metadata": {
        "id": "view-in-github",
        "colab_type": "text"
      },
      "source": [
        "<a href=\"https://colab.research.google.com/github/miguelsanchezrivas/2023-01-10clase1/blob/main/2023_01_10_clase1.ipynb\" target=\"_parent\"><img src=\"https://colab.research.google.com/assets/colab-badge.svg\" alt=\"Open In Colab\"/></a>"
      ]
    },
    {
      "cell_type": "code",
      "execution_count": null,
      "metadata": {
        "colab": {
          "base_uri": "https://localhost:8080/"
        },
        "id": "AlMGRmmzVm-v",
        "outputId": "2fbdd84d-ed5f-4bf3-d91e-0dd64eeb9dee"
      },
      "outputs": [
        {
          "output_type": "stream",
          "name": "stdout",
          "text": [
            "clase 1\n"
          ]
        }
      ],
      "source": [
        "print (\"clase 1\")"
      ]
    },
    {
      "cell_type": "code",
      "source": [
        "print (\"clase 1 modificado\")"
      ],
      "metadata": {
        "id": "WsxQe0kwYvrW",
        "outputId": "e7b1e807-dc32-4d6b-8462-b4a33293226a",
        "colab": {
          "base_uri": "https://localhost:8080/"
        }
      },
      "execution_count": 1,
      "outputs": [
        {
          "output_type": "stream",
          "name": "stdout",
          "text": [
            "clase 1 modificado\n"
          ]
        }
      ]
    }
  ]
}